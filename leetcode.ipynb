{
 "cells": [
  {
   "cell_type": "markdown",
   "metadata": {},
   "source": [
    "# Shortest Path in Grid\n",
    "\n",
    "Given an n x n binary matrix grid, return the length of the shortest clear path in the matrix. If there is no clear path, return -1.\n",
    "\n",
    "A clear path in a binary matrix is a path from the top-left cell (i.e., (0, 0)) to the bottom-right cell (i.e., (n - 1, n - 1)) such that:\n",
    "\n",
    "All the visited cells of the path are 0.\n",
    "All the adjacent cells of the path are 8-directionally connected (i.e., they are different and they share an edge or a corner).\n",
    "The length of a clear path is the number of visited cells of this path.\n",
    "\n",
    "Example 1:\n",
    "\n",
    "\n",
    "Input: grid = [[0,1],[1,0]]\n",
    "Output: 2"
   ]
  },
  {
   "cell_type": "code",
   "execution_count": 32,
   "metadata": {},
   "outputs": [
    {
     "name": "stdout",
     "output_type": "stream",
     "text": [
      "4 4\n",
      "pop (0, 0, 1)\n",
      "pop (1, 0, 2)\n",
      "pop (0, 0, 3)\n",
      "pop (2, 0, 3)\n",
      "pop (3, 0, 4)\n",
      "pop (3, 1, 4)\n",
      "pop (2, 2, 5)\n",
      "pop (1, 3, 6)\n",
      "pop (0, 3, 7)\n",
      "pop (0, 2, 7)\n",
      "pop (3, 3, 6)\n",
      "pop (2, 3, 6)\n",
      "pop (3, 2, 5)\n",
      "pop (2, 1, 3)\n",
      "3\n"
     ]
    }
   ],
   "source": [
    "class SP:\n",
    "\tdef sp(self, mat, start, dest):\n",
    "\t\tn = len( mat )\n",
    "\t\tm = len( mat[0] )\n",
    "\t\tprint(n,m)\n",
    "\n",
    "\t\tsteps = [(0, 1), (1, 1), (1, 0), (1, -1), (0, -1), (-1, -1), (-1, 0), (-1, +1)]\n",
    "\t\tqueue = []\n",
    "\t\tqueue.append( (start[0],start[1], 1) )\n",
    "\n",
    "\t\twhile queue:\n",
    "\t\t\ttmp = queue.pop()\n",
    "\t\t\tprint('pop', tmp)\n",
    "\t\t\tif tmp[0]==dest[0] and tmp[1] == dest[1]:\n",
    "\t\t\t\treturn tmp[2]\n",
    "\n",
    "\t\t\tfor step in steps:\n",
    "\t\t\t\ts = ( tmp[0]+step[0], tmp[1] + step[1],  tmp[2]+1 )\n",
    "\t\t\t\tif s[0] < n and s[0] >= 0 and s[1]>=0 and s[1] < m and mat[s[0]][s[1]] != 1 :\n",
    "\t\t\t\t\tqueue.append(s) \n",
    "\t\t\t\t\tmat[s[0]][s[1]] = 1\n",
    "\t\treturn -1\n",
    "\t\t\n",
    "mat = [[0,0,0,0], [0,0,1,0], [0,0,0,0], [0,0,0,0]]\n",
    "start = (0,0)\n",
    "dest = (2,1)\n",
    "\n",
    "s = SP()\n",
    "print( s.sp(mat, start, dest) )\n"
   ]
  },
  {
   "cell_type": "markdown",
   "metadata": {},
   "source": [
    "# Word Search\n",
    "Given an m x n grid of characters board and a string word, return true if the word exists in the grid. The word can be constructed from letters of sequentially adjacent cells, where adjacent cells are horizontally or vertically neighboring. The same letter cell may not be used more than once.\n",
    "\n",
    "Example 1: Input: board =[   [\"A\",\"B\",\"C\",\"E\"],\n",
    "                                                 [\"S\",\"F\",\"C\",\"S\"],\n",
    "                                                 [\"A\",\"D\",\"E\",\"E\"] ]\n",
    "\n",
    "        word = \"ABCCED\"\n",
    "        Output: true\n",
    "\n",
    "Example 2: Input: board = [ [\"A\",\"B\",\"C\",\"E\"],\n",
    "                                               [\"S\",\"F\",\"C\",\"S\"],\n",
    "                                               [\"A\",\"D\",\"E\",\"E\"]], \n",
    "        word = \"ABCB\"\n",
    "        Output: false"
   ]
  },
  {
   "cell_type": "code",
   "execution_count": 33,
   "metadata": {},
   "outputs": [
    {
     "name": "stdout",
     "output_type": "stream",
     "text": [
      "A\n",
      "B\n",
      "C\n",
      "C\n",
      "E\n",
      "A\n",
      "False\n"
     ]
    }
   ],
   "source": [
    "def check(b, con):\n",
    "    r = len(b)\n",
    "    c = len(b[0])\n",
    "    \n",
    "    if -1 < con[0] and con[0] < r and -1 < con[1] and con[1] < c:\n",
    "        return True\n",
    "    else:\n",
    "        return False\n",
    "    \n",
    "def dfs(board, word, current, visit, pos):\n",
    "    if len(word)-1 == pos:\n",
    "        return True\n",
    "    \n",
    "    print(word[pos])\n",
    "    steps = [(1,0), (0,1), (-1,0), (0,-1)]\n",
    "    visit.append(current)\n",
    "    for step in steps:\n",
    "        x, y = current[0]+step[0], current[1]+step[1]\n",
    "        if check(board, (x,y)) and (x,y) not in visit and board[x][y] == word[pos+1]:\n",
    "                #print(x,y)\n",
    "                visit.append((x,y))\n",
    "                dfs(board, word, (x,y), visit, pos+1)\n",
    "                visit.pop()\n",
    "    \n",
    "    return False \n",
    "\n",
    "def word_search(board, word):\n",
    "    r = len(board)\n",
    "    c = len(board[0])\n",
    "    for i in range(r):\n",
    "        for j in range(c):\n",
    "            if board[i][j] == word[0]:\n",
    "                if dfs(board, word, (i,j), [], 0):\n",
    "                    return True\n",
    "    return False\n",
    "                \n",
    "board =[ [\"A\",\"B\",\"C\",\"E\"], [\"S\",\"F\",\"C\",\"S\"], [\"A\",\"D\",\"E\",\"E\"] ]\n",
    "word = \"ABCCED\"\n",
    "\n",
    "print(word_search(board, word))\n"
   ]
  },
  {
   "cell_type": "markdown",
   "metadata": {},
   "source": [
    "# Number of Islands\n",
    " \n",
    "Given an m x n 2D binary grid grid which represents a map of '1's (land) and '0's (water), return the number of islands.\n",
    "\n",
    "An island is surrounded by water and is formed by connecting adjacent lands horizontally or vertically. You may assume all four edges of the grid are all surrounded by water.\n",
    " \n",
    "Example 1:\n",
    "\n",
    "Input: grid = [\n",
    "  [\"1\",\"1\",\"1\",\"1\",\"0\"],\n",
    "  [\"1\",\"1\",\"0\",\"1\",\"0\"],\n",
    "  [\"1\",\"1\",\"0\",\"0\",\"0\"],\n",
    "  [\"0\",\"0\",\"0\",\"0\",\"0\"]\n",
    "]\n",
    "Output: 1\n",
    "Example 2:\n",
    "\n",
    "Input: grid = [\n",
    "  [\"1\",\"1\",\"0\",\"0\",\"0\"],\n",
    "  [\"1\",\"1\",\"0\",\"0\",\"0\"],\n",
    "  [\"0\",\"0\",\"1\",\"0\",\"0\"],\n",
    "  [\"0\",\"0\",\"0\",\"1\",\"1\"]\n",
    "]\n",
    "Output: 3"
   ]
  },
  {
   "cell_type": "code",
   "execution_count": 49,
   "metadata": {},
   "outputs": [
    {
     "name": "stdout",
     "output_type": "stream",
     "text": [
      "3\n"
     ]
    }
   ],
   "source": [
    "from typing import List\n",
    "\n",
    "\n",
    "def bfs(grid, i, j, row, col):\n",
    "    steps = [(1,0), (0,1), (-1,0), (0,-1)]\n",
    "    \n",
    "    if 0 <= i and i < row and 0 <= j and j < col and grid[i][j]=='1' :\n",
    "        grid[i][j] = 'x'\n",
    "        for step in steps:\n",
    "            bfs(grid, i+step[0], j+step[1], row, col)\n",
    "\n",
    "def num_island(grid:List[List[str]]) -> int:\n",
    "    \n",
    "    row = len(grid)\n",
    "    if row > 0: \n",
    "        col = len(grid[0])\n",
    "    else:\n",
    "        raise ValueError('Grid should not be empty')\n",
    "     \n",
    "    num_island = 0\n",
    "    for i in range(row):\n",
    "        for j in range(col):\n",
    "            if grid[i][j] == '1':\n",
    "                num_island += 1\n",
    "                bfs(grid, i,j, row, col)\n",
    "\n",
    "    return num_island\n",
    "\n",
    "grid = [\n",
    "  [\"1\",\"1\",\"1\",\"1\",\"0\"],\n",
    "  [\"1\",\"1\",\"0\",\"1\",\"0\"],\n",
    "  [\"1\",\"1\",\"0\",\"0\",\"1\"],\n",
    "  [\"0\",\"0\",\"0\",\"1\",\"0\"]\n",
    "]\n",
    "#grid = []\n",
    "print(num_island(grid))\n"
   ]
  },
  {
   "cell_type": "markdown",
   "metadata": {},
   "source": [
    "# Word Break\n",
    "WordBreak: Given a string s and a dictionary of strings wordDict, return true if s can be segmented into a space-separated sequence of one or more dictionary words. Note that the same word in the dictionary may be reused multiple times in the segmentation.\n",
    "\n",
    "Example 1: Input: s = \"applepenapple\", wordDict = [\"apple\", \"pen\"] Output: true Explanation: Return true because \"applepenapple\" can be segmented as \"apple pen apple\". Note that you are allowed to reuse a dictionary word.\n",
    "\n",
    "Example 2: Input: s = \"catsandog\", wordDict = [\"cats\", \"dog\", \"sand\", \"and\", \"cat\"] Output: false\n",
    "\n",
    "1\n"
   ]
  },
  {
   "cell_type": "code",
   "execution_count": 37,
   "metadata": {},
   "outputs": [
    {
     "name": "stdout",
     "output_type": "stream",
     "text": [
      "True\n"
     ]
    }
   ],
   "source": [
    "def wordbreak(wordDict, s):\n",
    "    j_k = ['']\n",
    "    k = 1\n",
    "    while True:\n",
    "        j_k1 = []\n",
    "        for p in j_k:\n",
    "            for w in wordDict:\n",
    "                p1 = p+w\n",
    "                if s == p1:\n",
    "                    return True\n",
    "                if s.startswith(p1):\n",
    "                    j_k1.append(p1)\n",
    "                    \n",
    "        if len(j_k1) == 0:\n",
    "            return False\n",
    "        j_k = j_k1\n",
    "\n",
    "        \n",
    "# naive solution\n",
    "def wordbreak2(wordDict, s):\n",
    "    if s == '':\n",
    "        return True\n",
    "    \n",
    "    for w in wordDict:\n",
    "        if s.startswith(w):\n",
    "            s1 = s[len(w):]\n",
    "            if wordbreak(wordDict, s1):\n",
    "                return True\n",
    "            \n",
    "    return False\n",
    "        \n",
    "    \n",
    "\n",
    "print(wordbreak2([\"apple\", \"pen\"], \"applepenapple\" ))"
   ]
  },
  {
   "cell_type": "markdown",
   "metadata": {},
   "source": [
    "# Car Pooling Problem\n",
    "\n",
    "There is a car with capacity empty seats. The vehicle only drives east (i.e., it cannot turn around and drive west).\n",
    "\n",
    "You are given the integer capacity and an array trips where trips[i] = [numPassengersi, fromi, toi] indicates that the ith trip has numPassengersi passengers and the locations to pick them up and drop them off are fromi and toi respectively. The locations are given as the number of kilometers due east from the car's initial location.\n",
    "\n",
    "Return true if it is possible to pick up and drop off all passengers for all the given trips, or false otherwise.\n",
    "\n",
    " \n",
    "\n",
    "Example 1:\n",
    "\n",
    "Input: trips = [[2,1,5],[3,3,7]], capacity = 4\n",
    "Output: false\n",
    "\n",
    "\n",
    "Example 2:\n",
    "\n",
    "Input: trips = [[2,1,5],[3,3,7]], capacity = 5\n",
    "Output: true"
   ]
  },
  {
   "cell_type": "code",
   "execution_count": 34,
   "metadata": {},
   "outputs": [
    {
     "name": "stdout",
     "output_type": "stream",
     "text": [
      "False\n"
     ]
    }
   ],
   "source": [
    "def car_pooling(trips, capacity):\n",
    "    start_time = min([i[1] for i in trips])\n",
    "    end_time = max( [i[2] for i in trips])\n",
    "    car = {}\n",
    "    for i in range(start_time, end_time):\n",
    "        car[i] = 0\n",
    "        \n",
    "    for trip in trips:\n",
    "        for j in range(trip[1], trip[2]):\n",
    "            car[j] += trip[0]\n",
    "            if car[j] > capacity:\n",
    "                return False\n",
    "            \n",
    "    return True\n",
    "\n",
    "    \n",
    "\n",
    "trips = [(3,0,7), (1,4,7), (4,6,10)]\n",
    "# (number of passengers, start_time, end_time)\n",
    "\n",
    "print(car_pooling(trips, 5) )"
   ]
  },
  {
   "cell_type": "markdown",
   "metadata": {},
   "source": [
    "# Two Sum Problem"
   ]
  },
  {
   "cell_type": "code",
   "execution_count": 12,
   "metadata": {},
   "outputs": [
    {
     "name": "stdout",
     "output_type": "stream",
     "text": [
      "(4, 3)\n"
     ]
    }
   ],
   "source": [
    "#O(n^2)\n",
    "def two_sum(array, num):\n",
    "    n = len(array)\n",
    "    for i in range(n-1):\n",
    "        for j in range(i+1, n):\n",
    "            if array[i] + array[j] == num:\n",
    "                return i,j\n",
    "    return False\n",
    "\n",
    "\n",
    "#O(n)\n",
    "def two_sum(array, num):\n",
    "    n = len(array)\n",
    "    hash_ = {}\n",
    "    for i in range(n):\n",
    "        cur = array[i]\n",
    "        if cur in hash_:\n",
    "            return i, hash_[cur]\n",
    "        rem = num - cur\n",
    "        hash_[rem] = i\n",
    "    return False\n",
    "\n",
    "array = [2, 4, 3, 9, 1]\n",
    "num = 10\n",
    "print(two_sum(array, num))"
   ]
  },
  {
   "cell_type": "markdown",
   "metadata": {},
   "source": [
    "# Longest Palindromic Substring"
   ]
  },
  {
   "cell_type": "code",
   "execution_count": 28,
   "metadata": {},
   "outputs": [
    {
     "name": "stdout",
     "output_type": "stream",
     "text": [
      "5\n"
     ]
    }
   ],
   "source": [
    "# O(n^3)\n",
    "def longestPalindrom(s):\n",
    "    n = len(s)\n",
    "    ans, anslen = 0, 0\n",
    "    for i in range(n-1):\n",
    "        for j in range(i+1, n):\n",
    "            sub = s[i: j+1]\n",
    "            if sub == sub[::-1] and len(sub) > anslen :\n",
    "                anslen = len(sub)\n",
    "                ans = sub\n",
    "    return ans\n",
    "\n",
    "\n",
    "# O(n^2)\n",
    "def longestPalindrom(s):\n",
    "    n = len(s)\n",
    "    res, ress = 0, ''\n",
    "    \n",
    "    for i in range(n):\n",
    "        l,r = i,i\n",
    "        while 0<=l and r<n and s[l]==s[r]:\n",
    "            sl = r-l+1\n",
    "            if res < sl :\n",
    "                 res, ress = sl, s[l:r+1]\n",
    "            l -= 1\n",
    "            r += 1\n",
    "        \n",
    "        l,r = i,i+1\n",
    "        while 0<=l and r<n and s[l]==s[r]:\n",
    "            sl = r-l+1\n",
    "            if res < sl:\n",
    "                res, ress = sl, s[l:r+1]\n",
    "            l -= 1\n",
    "            r += 1\n",
    "    return res\n",
    "\n",
    "\n",
    "s = \"babab\"\n",
    "print(longestPalindrom(s))\n"
   ]
  },
  {
   "cell_type": "markdown",
   "metadata": {},
   "source": [
    "# Valid paranthesis"
   ]
  },
  {
   "cell_type": "code",
   "execution_count": 31,
   "metadata": {},
   "outputs": [
    {
     "name": "stdout",
     "output_type": "stream",
     "text": [
      "(\n",
      ")\n",
      "True\n"
     ]
    }
   ],
   "source": [
    "def paranthesisCheck(s):\n",
    "    \n",
    "    pair = {'(': ')', '{':'}', '[':']'}\n",
    "    stack = []\n",
    "    s = list(s)\n",
    "    while len(s)>0:\n",
    "        item = s.pop(0)\n",
    "        if item in pair:\n",
    "            stack.append(pair[item])\n",
    "        else:\n",
    "            if len(stack)>0 and stack[-1] == item:\n",
    "                stack.pop()\n",
    "            else:\n",
    "                return False\n",
    "\n",
    "    if len(stack) == 0:\n",
    "        return True\n",
    "    else:\n",
    "        return False\n",
    "\n",
    "print(paranthesisCheck('()'))\n",
    "        "
   ]
  },
  {
   "cell_type": "code",
   "execution_count": null,
   "metadata": {},
   "outputs": [],
   "source": []
  }
 ],
 "metadata": {
  "kernelspec": {
   "display_name": "Python 3",
   "language": "python",
   "name": "python3"
  },
  "language_info": {
   "codemirror_mode": {
    "name": "ipython",
    "version": 3
   },
   "file_extension": ".py",
   "mimetype": "text/x-python",
   "name": "python",
   "nbconvert_exporter": "python",
   "pygments_lexer": "ipython3",
   "version": "3.7.11"
  }
 },
 "nbformat": 4,
 "nbformat_minor": 4
}
